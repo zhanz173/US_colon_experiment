{
  "cells": [
    {
      "cell_type": "markdown",
      "metadata": {
        "id": "view-in-github",
        "colab_type": "text"
      },
      "source": [
        "<a href=\"https://colab.research.google.com/github/probml/pgm-jax/blob/main/gaussian-loopy-bp/gauss-bp-1d-line.ipynb\" target=\"_parent\"><img src=\"https://colab.research.google.com/assets/colab-badge.svg\" alt=\"Open In Colab\"/></a>"
      ]
    },
    {
      "cell_type": "markdown",
      "metadata": {
        "id": "2OtN-aTp8h0_"
      },
      "source": [
        "\n",
        "# Gaussian Belief Propagation applied to denoising a 1d line\n",
        "\n",
        "\n",
        "This example is based on the [PyTorch colab by Joseph Ortiz](https://colab.research.google.com/drive/1-nrE95X4UC9FBLR0-cTnsIP_XhA_PZKW?usp=sharing)\n",
        "\n",
        "\n"
      ]
    },
    {
      "cell_type": "code",
      "source": [
        "!git clone https://github.com/probml/pgm-jax.git\n"
      ],
      "metadata": {
        "id": "WdXPgFAa8zGx",
        "outputId": "3cbc1a1b-5c19-42a9-8c76-efca830e4fb1",
        "colab": {
          "base_uri": "https://localhost:8080/"
        }
      },
      "execution_count": 1,
      "outputs": [
        {
          "output_type": "stream",
          "name": "stdout",
          "text": [
            "Cloning into 'pgm-jax'...\n",
            "remote: Enumerating objects: 56, done.\u001b[K\n",
            "remote: Counting objects: 100% (56/56), done.\u001b[K\n",
            "remote: Compressing objects: 100% (48/48), done.\u001b[K\n",
            "remote: Total 56 (delta 16), reused 25 (delta 4), pack-reused 0\u001b[K\n",
            "Unpacking objects: 100% (56/56), done.\n"
          ]
        }
      ]
    },
    {
      "cell_type": "code",
      "source": [
        "!ls"
      ],
      "metadata": {
        "id": "kn2X7U6A9KH8",
        "outputId": "4080e168-906f-4e23-edbf-4ef4443d1ee8",
        "colab": {
          "base_uri": "https://localhost:8080/"
        }
      },
      "execution_count": 2,
      "outputs": [
        {
          "output_type": "stream",
          "name": "stdout",
          "text": [
            "pgm-jax  sample_data\n"
          ]
        }
      ]
    },
    {
      "cell_type": "code",
      "source": [
        "%cd pgm-jax/gaussian-loopy-bp/\n"
      ],
      "metadata": {
        "id": "UN3-h2I39Ld6",
        "outputId": "30467e3e-d727-4b11-f6cd-06749eee9375",
        "colab": {
          "base_uri": "https://localhost:8080/"
        }
      },
      "execution_count": 5,
      "outputs": [
        {
          "output_type": "stream",
          "name": "stdout",
          "text": [
            "/content/pgm-jax/gaussian-loopy-bp\n"
          ]
        }
      ]
    },
    {
      "cell_type": "code",
      "execution_count": 6,
      "metadata": {
        "id": "FEnKJ9_w8h1D"
      },
      "outputs": [],
      "source": [
        "\n",
        "import numpy as np\n",
        "import os\n",
        "import matplotlib.pyplot as plt\n",
        "\n",
        "from typing import List, Callable, Optional, Union\n",
        "\n",
        "import jax.numpy as jnp\n",
        "from jax import random as jrand\n",
        "from jax import config\n",
        "\n",
        "from factor_graph import FactorGraph, GBPSettings\n",
        "from gaussian import MeasModel, SquaredLoss\n",
        "\n",
        "# Uncomment below expression to enforce CPU runtime\n",
        "# config.update('jax_platform_name', 'cpu')"
      ]
    },
    {
      "cell_type": "markdown",
      "metadata": {
        "id": "f9uq2Jcr8h1E"
      },
      "source": [
        "\n",
        "\n",
        "## Create Custom factors"
      ]
    },
    {
      "cell_type": "code",
      "execution_count": 7,
      "metadata": {
        "id": "TlB0zKwl8h1E"
      },
      "outputs": [],
      "source": [
        "def height_meas_fn(x: jnp.array, gamma: jnp.array):\n",
        "    gamma = gamma.squeeze()\n",
        "    J = jnp.array([1-gamma, gamma])\n",
        "    return J @ x.reshape(-1,1)\n",
        "\n",
        "def height_jac_fn(x: jnp.array, gamma: jnp.array):\n",
        "    gamma = gamma.squeeze()\n",
        "    return jnp.array([[1-gamma, gamma]])\n",
        "\n",
        "class HeightMeasurementModel(MeasModel):\n",
        "    def __init__(self, loss: SquaredLoss, gamma: jnp.array) -> None:\n",
        "        MeasModel.__init__(self, height_meas_fn, height_jac_fn, loss, gamma)\n",
        "        self.linear = True\n",
        "\n",
        "def smooth_meas_fn(x: jnp.array):\n",
        "    return jnp.array([x[1] - x[0]])\n",
        "\n",
        "def smooth_jac_fn(x: jnp.array):\n",
        "    return jnp.array([[-1., 1.]])\n",
        "\n",
        "class SmoothingModel(MeasModel):\n",
        "    def __init__(self, loss: SquaredLoss) -> None:\n",
        "        MeasModel.__init__(self, smooth_meas_fn, smooth_jac_fn, loss)\n",
        "        self.linear = True"
      ]
    },
    {
      "cell_type": "markdown",
      "metadata": {
        "id": "hf9y6iVv8h1F"
      },
      "source": [
        "## Set parameters"
      ]
    },
    {
      "cell_type": "code",
      "execution_count": 8,
      "metadata": {
        "id": "wRh5SP9M8h1F"
      },
      "outputs": [],
      "source": [
        "n_varnodes = 20\n",
        "x_range = 10\n",
        "n_measurements = 15\n",
        "\n",
        "gbp_settings = GBPSettings(\n",
        "    damping = 0.1,\n",
        "    beta = 0.01,\n",
        "    num_undamped_iters = 1,\n",
        "    min_linear_iters = 1,\n",
        "    dropout = 0.0,\n",
        ")"
      ]
    },
    {
      "cell_type": "markdown",
      "metadata": {
        "id": "s0G9JMjq8h1F"
      },
      "source": [
        "## Gaussian noise measurement model parameters:"
      ]
    },
    {
      "cell_type": "code",
      "execution_count": 9,
      "metadata": {
        "id": "WliIR4TZ8h1G",
        "outputId": "7c34207a-c7f2-4e60-edbd-38f71fb7540c",
        "colab": {
          "base_uri": "https://localhost:8080/"
        }
      },
      "outputs": [
        {
          "output_type": "stream",
          "name": "stderr",
          "text": [
            "WARNING:absl:No GPU/TPU found, falling back to CPU. (Set TF_CPP_MIN_LOG_LEVEL=0 and rerun for more info.)\n"
          ]
        }
      ],
      "source": [
        "prior_cov = jnp.array([10.])\n",
        "data_cov = jnp.array([0.05]) \n",
        "smooth_cov = jnp.array([0.1])\n",
        "data_std = jnp.sqrt(data_cov)"
      ]
    },
    {
      "cell_type": "markdown",
      "metadata": {
        "id": "6N6wefi28h1G"
      },
      "source": [
        "## Create measurements "
      ]
    },
    {
      "cell_type": "code",
      "execution_count": 10,
      "metadata": {
        "id": "PhPPPkhq8h1H"
      },
      "outputs": [],
      "source": [
        "key = jrand.PRNGKey(42)\n",
        "meas_x = jrand.randint(key, [n_measurements], 0, x_range)\n",
        "key, subkey = jrand.split(key)\n",
        "meas_y = jnp.sin(meas_x) + jrand.normal(key, [n_measurements])*data_std"
      ]
    },
    {
      "cell_type": "markdown",
      "metadata": {
        "id": "vbFn9hA98h1H"
      },
      "source": [
        "## Plot measurements"
      ]
    },
    {
      "cell_type": "code",
      "execution_count": 11,
      "metadata": {
        "id": "_xrj8IyG8h1H",
        "outputId": "14fa299f-4bb5-4961-8673-a7192d4f72fc",
        "colab": {
          "base_uri": "https://localhost:8080/",
          "height": 265
        }
      },
      "outputs": [
        {
          "output_type": "display_data",
          "data": {
            "text/plain": [
              "<Figure size 432x288 with 1 Axes>"
            ],
            "image/png": "[encoded data removed]"
          },
          "metadata": {
            "needs_background": "light"
          }
        }
      ],
      "source": [
        "plt.scatter(meas_x, meas_y, color=\"red\", label=\"Measurements\", marker=\".\")\n",
        "plt.legend()\n",
        "plt.savefig('gbp-1d-data.pdf')\n",
        "plt.show()"
      ]
    },
    {
      "cell_type": "markdown",
      "metadata": {
        "id": "z_6gQvzu8h1I"
      },
      "source": [
        "## Create factor graph "
      ]
    },
    {
      "cell_type": "code",
      "execution_count": 12,
      "metadata": {
        "id": "J-4xrK4h8h1I",
        "outputId": "dcf272db-a318-46b7-b17e-935a369fce8b",
        "colab": {
          "base_uri": "https://localhost:8080/"
        }
      },
      "outputs": [
        {
          "output_type": "stream",
          "name": "stdout",
          "text": [
            "\n",
            "Factor Graph:\n",
            "# Variable nodes: 20\n",
            "# Factors: 34\n",
            "\n",
            "\n"
          ]
        }
      ],
      "source": [
        "fg = FactorGraph(gbp_settings)\n",
        "\n",
        "xs = jnp.linspace(0, x_range, n_varnodes).reshape(-1,1)\n",
        "\n",
        "for i in range(n_varnodes):\n",
        "    fg.add_var_node(1, jnp.array([0.]), prior_cov)\n",
        "\n",
        "for i in range(n_varnodes-1):\n",
        "    fg.add_factor(\n",
        "    [i, i+1], \n",
        "    jnp.array([0.]), \n",
        "    SmoothingModel(SquaredLoss(1, smooth_cov))\n",
        "    )\n",
        "\n",
        "for i in range(n_measurements):\n",
        "    ix2 = np.argmax(xs > meas_x[i])\n",
        "    ix1 = ix2 - 1\n",
        "    gamma = (meas_x[i] - xs[ix1]) / (xs[ix2] - xs[ix1])\n",
        "    fg.add_factor(\n",
        "    [ix1, ix2], \n",
        "    meas_y[i], \n",
        "    HeightMeasurementModel(\n",
        "        SquaredLoss(1, data_cov), \n",
        "        gamma  \n",
        "        )\n",
        "    )\n",
        "fg.print(brief=True)"
      ]
    },
    {
      "cell_type": "markdown",
      "metadata": {
        "id": "c715iinJ8h1I"
      },
      "source": [
        "\n",
        "## Plot initial beliefs and measurements"
      ]
    },
    {
      "cell_type": "code",
      "execution_count": 13,
      "metadata": {
        "id": "eYPVoCkx8h1J",
        "outputId": "a4f0dd34-d62d-4511-db32-f96bea639d6e",
        "colab": {
          "base_uri": "https://localhost:8080/",
          "height": 265
        }
      },
      "outputs": [
        {
          "output_type": "display_data",
          "data": {
            "text/plain": [
              "<Figure size 432x288 with 1 Axes>"
            ],
            "image/png": "[encoded data removed]"
          },
          "metadata": {
            "needs_background": "light"
          }
        }
      ],
      "source": [
        "covs = jnp.sqrt(jnp.concatenate(fg.belief_covs()).flatten())\n",
        "plt.errorbar(xs, fg.belief_means(), yerr=covs, fmt='o', color=\"C0\", label='Beliefs')\n",
        "plt.scatter(meas_x, meas_y, color=\"red\", label=\"Measurements\", marker=\".\")\n",
        "plt.legend()\n",
        "plt.show()"
      ]
    },
    {
      "cell_type": "markdown",
      "metadata": {
        "id": "_Xo2srZE8h1J"
      },
      "source": [
        "## Compute posterior beliefs with GBP "
      ]
    },
    {
      "cell_type": "code",
      "execution_count": 14,
      "metadata": {
        "id": "WaSAQ6gx8h1J",
        "outputId": "1310ff72-9600-4cec-b15b-0f5c370f277f",
        "colab": {
          "base_uri": "https://localhost:8080/"
        }
      },
      "outputs": [
        {
          "output_type": "stream",
          "name": "stdout",
          "text": [
            "\n",
            "Initial Energy 106.23512\n",
            "Iter 1  --- Energy 45.52082 --- \n",
            "Iter 2  --- Energy 26.09324 --- \n",
            "Iter 3  --- Energy 27.78959 --- \n",
            "Iter 4  --- Energy 17.66786 --- \n",
            "Iter 5  --- Energy 16.32376 --- \n",
            "Iter 6  --- Energy 15.39065 --- \n",
            "Iter 7  --- Energy 14.81990 --- \n",
            "Iter 8  --- Energy 14.48639 --- \n",
            "Iter 9  --- Energy 14.44526 --- \n",
            "Iter 10  --- Energy 14.43492 --- \n"
          ]
        }
      ],
      "source": [
        "fg.gbp_solve(n_iters=10)"
      ]
    },
    {
      "cell_type": "markdown",
      "metadata": {
        "id": "QbAlh3AN8h1K"
      },
      "source": [
        "## Plot beliefs and measurements"
      ]
    },
    {
      "cell_type": "code",
      "execution_count": 15,
      "metadata": {
        "id": "OaQNn_Lk8h1K",
        "outputId": "e46bbfd3-62ee-4aab-de67-0d064cc1c8a5",
        "colab": {
          "base_uri": "https://localhost:8080/",
          "height": 265
        }
      },
      "outputs": [
        {
          "output_type": "display_data",
          "data": {
            "text/plain": [
              "<Figure size 432x288 with 1 Axes>"
            ],
            "image/png": "[encoded data removed]"
          },
          "metadata": {
            "needs_background": "light"
          }
        }
      ],
      "source": [
        "covs = jnp.sqrt(jnp.concatenate(fg.belief_covs()).flatten())\n",
        "plt.errorbar(xs, fg.belief_means(), yerr=covs, fmt='o', color=\"C0\", label='Beliefs')\n",
        "plt.scatter(meas_x, meas_y, color=\"red\", label=\"Measurements\", marker=\".\")\n",
        "plt.legend()\n",
        "plt.savefig('gbp-1d-posteriors.pdf')\n",
        "plt.show()"
      ]
    },
    {
      "cell_type": "code",
      "execution_count": null,
      "metadata": {
        "id": "Upg3PCA98h1K"
      },
      "outputs": [],
      "source": [
        ""
      ]
    },
    {
      "cell_type": "code",
      "execution_count": null,
      "metadata": {
        "id": "uVqWpeIt8h1K"
      },
      "outputs": [],
      "source": [
        ""
      ]
    }
  ],
  "metadata": {
    "kernelspec": {
      "display_name": "py_36",
      "language": "python",
      "name": "py_36"
    },
    "language_info": {
      "codemirror_mode": {
        "name": "ipython",
        "version": 3
      },
      "file_extension": ".py",
      "mimetype": "text/x-python",
      "name": "python",
      "nbconvert_exporter": "python",
      "pygments_lexer": "ipython3",
      "version": "3.6.13"
    },
    "colab": {
      "name": "gauss-bp-1d-line.ipynb",
      "provenance": [],
      "include_colab_link": true
    }
  },
  "nbformat": 4,
  "nbformat_minor": 0
}